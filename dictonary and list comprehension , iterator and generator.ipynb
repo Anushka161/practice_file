{
 "cells": [
  {
   "cell_type": "code",
   "execution_count": 1,
   "id": "b05a946e",
   "metadata": {},
   "outputs": [],
   "source": [
    "A = [[1,2,3],[11,22,33,[500,502]],[45,[239,'hii'],56,77]]"
   ]
  },
  {
   "cell_type": "code",
   "execution_count": 2,
   "id": "f8c892ef",
   "metadata": {},
   "outputs": [
    {
     "data": {
      "text/plain": [
       "'hii'"
      ]
     },
     "execution_count": 2,
     "metadata": {},
     "output_type": "execute_result"
    }
   ],
   "source": [
    "A[2][1][1]"
   ]
  },
  {
   "cell_type": "code",
   "execution_count": 3,
   "id": "ad93d477",
   "metadata": {},
   "outputs": [
    {
     "data": {
      "text/plain": [
       "'hii'"
      ]
     },
     "execution_count": 3,
     "metadata": {},
     "output_type": "execute_result"
    }
   ],
   "source": [
    "A[-1][1][-1]"
   ]
  },
  {
   "cell_type": "code",
   "execution_count": 5,
   "id": "affaf799",
   "metadata": {},
   "outputs": [],
   "source": [
    "amazon_cart = [['watch',5000],['phone',10000],['laptop',50000]]\n",
    "\n",
    "total_cost = 0"
   ]
  },
  {
   "cell_type": "code",
   "execution_count": 6,
   "id": "60ffb397",
   "metadata": {},
   "outputs": [
    {
     "data": {
      "text/plain": [
       "5000"
      ]
     },
     "execution_count": 6,
     "metadata": {},
     "output_type": "execute_result"
    }
   ],
   "source": [
    "#without for loop\n",
    "\n",
    "amazon_cart[0][1]"
   ]
  },
  {
   "cell_type": "code",
   "execution_count": 7,
   "id": "6955c716",
   "metadata": {},
   "outputs": [
    {
     "data": {
      "text/plain": [
       "50000"
      ]
     },
     "execution_count": 7,
     "metadata": {},
     "output_type": "execute_result"
    }
   ],
   "source": [
    "amazon_cart[2][1]"
   ]
  },
  {
   "cell_type": "code",
   "execution_count": 9,
   "id": "123cf19b",
   "metadata": {},
   "outputs": [
    {
     "data": {
      "text/plain": [
       "10000"
      ]
     },
     "execution_count": 9,
     "metadata": {},
     "output_type": "execute_result"
    }
   ],
   "source": [
    "amazon_cart[1][1]"
   ]
  },
  {
   "cell_type": "code",
   "execution_count": null,
   "id": "c5626dbd",
   "metadata": {},
   "outputs": [],
   "source": [
    "total_cost = 0\n",
    "for i in range(len(amazon_cart)):\n",
    "    total_cost = "
   ]
  },
  {
   "cell_type": "markdown",
   "id": "3c640eb3",
   "metadata": {},
   "source": [
    "#list comprehension "
   ]
  },
  {
   "cell_type": "code",
   "execution_count": 3,
   "id": "0a10e9e0",
   "metadata": {},
   "outputs": [
    {
     "name": "stdout",
     "output_type": "stream",
     "text": [
      "[1, 4, 9, 16, 25, 36, 49, 64, 81, 100, 121, 144, 169, 196, 225, 256, 289, 324, 361, 400, 441, 484, 529, 576, 625, 676, 729, 784, 841, 900, 961, 1024, 1089, 1156, 1225, 1296, 1369, 1444, 1521, 1600, 1681, 1764, 1849, 1936, 2025, 2116, 2209, 2304, 2401, 2500, 2601, 2704, 2809, 2916, 3025, 3136, 3249, 3364, 3481, 3600, 3721, 3844, 3969, 4096, 4225, 4356, 4489, 4624, 4761, 4900, 5041, 5184, 5329, 5476, 5625, 5776, 5929, 6084, 6241, 6400, 6561, 6724, 6889, 7056, 7225, 7396, 7569, 7744, 7921, 8100, 8281, 8464, 8649, 8836, 9025, 9216, 9409, 9604, 9801, 10000]\n"
     ]
    }
   ],
   "source": [
    "squares = []\n",
    "for i in range(1,101):\n",
    "    squares.append(i**2)\n",
    "print(squares)"
   ]
  },
  {
   "cell_type": "code",
   "execution_count": 6,
   "id": "deb77716",
   "metadata": {},
   "outputs": [
    {
     "name": "stdout",
     "output_type": "stream",
     "text": [
      "[1, 4, 9, 16, 25, 36, 49, 64, 81, 100, 121, 144, 169, 196, 225, 256, 289, 324, 361, 400, 441, 484, 529, 576, 625, 676, 729, 784, 841, 900, 961, 1024, 1089, 1156, 1225, 1296, 1369, 1444, 1521, 1600, 1681, 1764, 1849, 1936, 2025, 2116, 2209, 2304, 2401, 2500, 2601, 2704, 2809, 2916, 3025, 3136, 3249, 3364, 3481, 3600, 3721, 3844, 3969, 4096, 4225, 4356, 4489, 4624, 4761, 4900, 5041, 5184, 5329, 5476, 5625, 5776, 5929, 6084, 6241, 6400, 6561, 6724, 6889, 7056, 7225, 7396, 7569, 7744, 7921, 8100, 8281, 8464, 8649, 8836, 9025, 9216, 9409, 9604, 9801, 10000]\n"
     ]
    }
   ],
   "source": [
    "squares1 = [i**2 for i in range(1,101)]\n",
    "print(squares1)"
   ]
  },
  {
   "cell_type": "markdown",
   "id": "94d81629",
   "metadata": {},
   "source": [
    "# list comprehension"
   ]
  },
  {
   "cell_type": "code",
   "execution_count": 1,
   "id": "a47f8527",
   "metadata": {},
   "outputs": [],
   "source": [
    "l=[2,5,6,12,21,31,13,44]"
   ]
  },
  {
   "cell_type": "code",
   "execution_count": 2,
   "id": "64dde30b",
   "metadata": {},
   "outputs": [
    {
     "name": "stdout",
     "output_type": "stream",
     "text": [
      "[4, 25, 36, 144, 441, 961, 169, 1936]\n"
     ]
    }
   ],
   "source": [
    "l1=[i**2 for i in l]\n",
    "print(l1)"
   ]
  },
  {
   "cell_type": "code",
   "execution_count": 5,
   "id": "3dfa2f7e",
   "metadata": {},
   "outputs": [
    {
     "name": "stdout",
     "output_type": "stream",
     "text": [
      "[(4, 7), (25, 10), (36, 11), (144, 17), (441, 26), (961, 36), (169, 18), (1936, 49)]\n"
     ]
    }
   ],
   "source": [
    "l2 = [(i**2 , i+5) for i in l]\n",
    "print(l2)"
   ]
  },
  {
   "cell_type": "code",
   "execution_count": 4,
   "id": "432efb10",
   "metadata": {},
   "outputs": [
    {
     "name": "stdout",
     "output_type": "stream",
     "text": [
      "[4, 25, 36, 144]\n"
     ]
    }
   ],
   "source": [
    "l3 = [i**2 for i in l if i< 13]\n",
    "print(l3)"
   ]
  },
  {
   "cell_type": "markdown",
   "id": "94ff9df5",
   "metadata": {},
   "source": [
    "# OR"
   ]
  },
  {
   "cell_type": "code",
   "execution_count": 7,
   "id": "00487d45",
   "metadata": {},
   "outputs": [],
   "source": [
    "l1 = []\n",
    "for i in l:\n",
    "    if i < 13:\n",
    "        l1.append(i**2)"
   ]
  },
  {
   "cell_type": "code",
   "execution_count": 8,
   "id": "1cb83d4f",
   "metadata": {},
   "outputs": [
    {
     "data": {
      "text/plain": [
       "[4, 25, 36, 144]"
      ]
     },
     "execution_count": 8,
     "metadata": {},
     "output_type": "execute_result"
    }
   ],
   "source": [
    "l1"
   ]
  },
  {
   "cell_type": "markdown",
   "id": "4a969b81",
   "metadata": {},
   "source": [
    "# Dictonary comprehension"
   ]
  },
  {
   "cell_type": "code",
   "execution_count": 9,
   "id": "35a4e820",
   "metadata": {},
   "outputs": [
    {
     "data": {
      "text/plain": [
       "{0: 0, 1: 1, 2: 4, 3: 9, 4: 16, 5: 25, 6: 36, 7: 49, 8: 64, 9: 81}"
      ]
     },
     "execution_count": 9,
     "metadata": {},
     "output_type": "execute_result"
    }
   ],
   "source": [
    "{i:i**2 for i in range(10)}"
   ]
  },
  {
   "cell_type": "markdown",
   "id": "a1d2671b",
   "metadata": {},
   "source": [
    "# Tuple comprehension"
   ]
  },
  {
   "cell_type": "code",
   "execution_count": 11,
   "id": "56411769",
   "metadata": {},
   "outputs": [
    {
     "data": {
      "text/plain": [
       "(0, 1, 2, 3, 4, 5, 6, 7, 8, 9)"
      ]
     },
     "execution_count": 11,
     "metadata": {},
     "output_type": "execute_result"
    }
   ],
   "source": [
    "tuple(i for i in range(10))"
   ]
  },
  {
   "cell_type": "markdown",
   "id": "8a523424",
   "metadata": {},
   "source": [
    "# generator , iterator , iterable "
   ]
  },
  {
   "cell_type": "markdown",
   "id": "46442270",
   "metadata": {},
   "source": [
    "Integer is not iterable . But string is iterable and we can make it iterator by using iterator function. \n"
   ]
  },
  {
   "cell_type": "code",
   "execution_count": 1,
   "id": "b8bbe858",
   "metadata": {},
   "outputs": [],
   "source": [
    "s = \"sudh\""
   ]
  },
  {
   "cell_type": "code",
   "execution_count": 2,
   "id": "cee4e750",
   "metadata": {},
   "outputs": [
    {
     "data": {
      "text/plain": [
       "<str_iterator at 0x2298d46bf70>"
      ]
     },
     "execution_count": 2,
     "metadata": {},
     "output_type": "execute_result"
    }
   ],
   "source": [
    "iter(s)"
   ]
  },
  {
   "cell_type": "code",
   "execution_count": 3,
   "id": "2ab05982",
   "metadata": {},
   "outputs": [
    {
     "ename": "TypeError",
     "evalue": "'str' object is not an iterator",
     "output_type": "error",
     "traceback": [
      "\u001b[1;31m---------------------------------------------------------------------------\u001b[0m",
      "\u001b[1;31mTypeError\u001b[0m                                 Traceback (most recent call last)",
      "Input \u001b[1;32mIn [3]\u001b[0m, in \u001b[0;36m<cell line: 1>\u001b[1;34m()\u001b[0m\n\u001b[1;32m----> 1\u001b[0m \u001b[38;5;28;43mnext\u001b[39;49m\u001b[43m(\u001b[49m\u001b[43ms\u001b[49m\u001b[43m)\u001b[49m\n",
      "\u001b[1;31mTypeError\u001b[0m: 'str' object is not an iterator"
     ]
    }
   ],
   "source": [
    "next(s)"
   ]
  },
  {
   "cell_type": "code",
   "execution_count": 4,
   "id": "b96a8cce",
   "metadata": {},
   "outputs": [],
   "source": [
    "s = iter(s)"
   ]
  },
  {
   "cell_type": "code",
   "execution_count": 5,
   "id": "dac1dd7b",
   "metadata": {},
   "outputs": [
    {
     "data": {
      "text/plain": [
       "'s'"
      ]
     },
     "execution_count": 5,
     "metadata": {},
     "output_type": "execute_result"
    }
   ],
   "source": [
    "next(s)"
   ]
  },
  {
   "cell_type": "code",
   "execution_count": 6,
   "id": "b40dcbbb",
   "metadata": {},
   "outputs": [
    {
     "data": {
      "text/plain": [
       "'u'"
      ]
     },
     "execution_count": 6,
     "metadata": {},
     "output_type": "execute_result"
    }
   ],
   "source": [
    "next(s)"
   ]
  },
  {
   "cell_type": "code",
   "execution_count": 7,
   "id": "4f7ab9d2",
   "metadata": {},
   "outputs": [
    {
     "data": {
      "text/plain": [
       "range(0, 45)"
      ]
     },
     "execution_count": 7,
     "metadata": {},
     "output_type": "execute_result"
    }
   ],
   "source": [
    "#Generator \n",
    "range(45)"
   ]
  },
  {
   "cell_type": "code",
   "execution_count": 9,
   "id": "fb8ceae6",
   "metadata": {},
   "outputs": [
    {
     "data": {
      "text/plain": [
       "[0, 3, 6, 9, 12, 15, 18, 21, 24, 27, 30, 33, 36, 39, 42]"
      ]
     },
     "execution_count": 9,
     "metadata": {},
     "output_type": "execute_result"
    }
   ],
   "source": [
    "list(range(0,45,3))"
   ]
  },
  {
   "cell_type": "markdown",
   "id": "fa141d2d",
   "metadata": {},
   "source": [
    "Yield function"
   ]
  },
  {
   "cell_type": "code",
   "execution_count": 5,
   "id": "9162ffe4",
   "metadata": {},
   "outputs": [],
   "source": [
    "def fib(n):                   #Yield means remember \n",
    "    a = 0\n",
    "    b = 1\n",
    "    for i in range(n):\n",
    "        yield a,i\n",
    "        a , b = b , a+b"
   ]
  },
  {
   "cell_type": "code",
   "execution_count": 6,
   "id": "e1dbdebf",
   "metadata": {},
   "outputs": [
    {
     "name": "stdout",
     "output_type": "stream",
     "text": [
      "(0, 0)\n",
      "(1, 1)\n",
      "(1, 2)\n",
      "(2, 3)\n",
      "(3, 4)\n",
      "(5, 5)\n",
      "(8, 6)\n",
      "(13, 7)\n",
      "(21, 8)\n",
      "(34, 9)\n"
     ]
    }
   ],
   "source": [
    "for i in fib(10):       \n",
    "    print(i)"
   ]
  },
  {
   "cell_type": "code",
   "execution_count": 9,
   "id": "647e3bd7",
   "metadata": {},
   "outputs": [],
   "source": [
    "#fibbonacci series\n",
    "def fib1(n):\n",
    "    a = 1\n",
    "    b = 1\n",
    "    output = []\n",
    "    for i in range(n):\n",
    "        output.append(a)\n",
    "        a , b = b , a+b\n",
    "    return output"
   ]
  },
  {
   "cell_type": "code",
   "execution_count": 10,
   "id": "4590ce29",
   "metadata": {},
   "outputs": [
    {
     "data": {
      "text/plain": [
       "[1, 1, 2, 3, 5, 8, 13, 21, 34, 55]"
      ]
     },
     "execution_count": 10,
     "metadata": {},
     "output_type": "execute_result"
    }
   ],
   "source": [
    "fib1(10)"
   ]
  },
  {
   "cell_type": "code",
   "execution_count": 11,
   "id": "82350751",
   "metadata": {},
   "outputs": [],
   "source": [
    "#It gives a non type output (since we have used print statement) so we cannot perform premitive operation\n",
    "def fib(n):\n",
    "    a = 0\n",
    "    b = 1\n",
    "    for i in range(n):\n",
    "        print(a)\n",
    "        a , b = b , a+b"
   ]
  },
  {
   "cell_type": "code",
   "execution_count": 12,
   "id": "25e1a773",
   "metadata": {},
   "outputs": [
    {
     "name": "stdout",
     "output_type": "stream",
     "text": [
      "0\n",
      "1\n",
      "1\n",
      "2\n",
      "3\n",
      "5\n",
      "8\n",
      "13\n",
      "21\n",
      "34\n"
     ]
    }
   ],
   "source": [
    "fib(10)"
   ]
  },
  {
   "cell_type": "code",
   "execution_count": null,
   "id": "2e7af6ee",
   "metadata": {},
   "outputs": [],
   "source": []
  }
 ],
 "metadata": {
  "kernelspec": {
   "display_name": "Python 3 (ipykernel)",
   "language": "python",
   "name": "python3"
  },
  "language_info": {
   "codemirror_mode": {
    "name": "ipython",
    "version": 3
   },
   "file_extension": ".py",
   "mimetype": "text/x-python",
   "name": "python",
   "nbconvert_exporter": "python",
   "pygments_lexer": "ipython3",
   "version": "3.9.12"
  }
 },
 "nbformat": 4,
 "nbformat_minor": 5
}
