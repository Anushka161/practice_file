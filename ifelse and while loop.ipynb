{
 "cells": [
  {
   "cell_type": "code",
   "execution_count": 1,
   "id": "f6fb28cc",
   "metadata": {},
   "outputs": [
    {
     "name": "stdout",
     "output_type": "stream",
     "text": [
      "current_station is :station 01\n",
      "my destination is: station 3\n",
      "Continue the journey I haven't reached the destination\n",
      "current_station is :station 02\n",
      "my destination is: station 3\n",
      "Continue the journey I haven't reached the destination\n",
      "current_station is :station 03\n",
      "my destination is: station 3\n",
      "Continue the journey I haven't reached the destination\n",
      "current_station is :station 04\n",
      "my destination is: station 3\n",
      "Continue the journey I haven't reached the destination\n"
     ]
    },
    {
     "ename": "IndexError",
     "evalue": "list index out of range",
     "output_type": "error",
     "traceback": [
      "\u001b[1;31m---------------------------------------------------------------------------\u001b[0m",
      "\u001b[1;31mIndexError\u001b[0m                                Traceback (most recent call last)",
      "Input \u001b[1;32mIn [1]\u001b[0m, in \u001b[0;36m<cell line: 5>\u001b[1;34m()\u001b[0m\n\u001b[0;32m      2\u001b[0m destination_station \u001b[38;5;241m=\u001b[39m \u001b[38;5;124m'\u001b[39m\u001b[38;5;124mstation 3\u001b[39m\u001b[38;5;124m'\u001b[39m\n\u001b[0;32m      3\u001b[0m current_station \u001b[38;5;241m=\u001b[39m \u001b[38;5;241m0\u001b[39m\n\u001b[1;32m----> 5\u001b[0m \u001b[38;5;28;01mwhile\u001b[39;00m \u001b[43mstations\u001b[49m\u001b[43m[\u001b[49m\u001b[43mcurrent_station\u001b[49m\u001b[43m]\u001b[49m \u001b[38;5;241m!=\u001b[39m destination_station:\n\u001b[0;32m      6\u001b[0m     \u001b[38;5;28mprint\u001b[39m(\u001b[38;5;124mf\u001b[39m\u001b[38;5;124m\"\u001b[39m\u001b[38;5;124mcurrent_station is :\u001b[39m\u001b[38;5;132;01m{\u001b[39;00mstations[current_station]\u001b[38;5;132;01m}\u001b[39;00m\u001b[38;5;124m\"\u001b[39m)\n\u001b[0;32m      7\u001b[0m     \u001b[38;5;28mprint\u001b[39m(\u001b[38;5;124mf\u001b[39m\u001b[38;5;124m\"\u001b[39m\u001b[38;5;124mmy destination is: \u001b[39m\u001b[38;5;132;01m{\u001b[39;00mdestination_station\u001b[38;5;132;01m}\u001b[39;00m\u001b[38;5;124m\"\u001b[39m)\n",
      "\u001b[1;31mIndexError\u001b[0m: list index out of range"
     ]
    }
   ],
   "source": [
    "stations = ['station 01','station 02','station 03','station 04']\n",
    "destination_station = 'station 3'\n",
    "current_station = 0\n",
    "\n",
    "while stations[current_station] != destination_station:\n",
    "    print(f\"current_station is :{stations[current_station]}\")\n",
    "    print(f\"my destination is: {destination_station}\")\n",
    "    print(\"Continue the journey I haven't reached the destination\")\n",
    "    current_station = current_station + 1\n",
    "    \n",
    "    "
   ]
  },
  {
   "cell_type": "code",
   "execution_count": null,
   "id": "95c610c5",
   "metadata": {},
   "outputs": [],
   "source": [
    "s = \"ineuron\"\n",
    "for i in s:\n",
    "    print(i)"
   ]
  },
  {
   "cell_type": "code",
   "execution_count": null,
   "id": "9e065daf",
   "metadata": {},
   "outputs": [],
   "source": [
    "l = [\"name\" , \"emailid\" , \"phoneno\",\"address\"]"
   ]
  },
  {
   "cell_type": "code",
   "execution_count": null,
   "id": "06af3de0",
   "metadata": {},
   "outputs": [],
   "source": [
    "for i in l:\n",
    "    print(i)\n",
    "else:\n",
    "    print(\"if for loop is going to complete itself then it will come to else part\")"
   ]
  },
  {
   "cell_type": "code",
   "execution_count": null,
   "id": "ba6c1749",
   "metadata": {},
   "outputs": [],
   "source": [
    "for i in l:\n",
    "    if i == \"emailid\":\n",
    "        break\n",
    "    print(i)\n",
    "else:\n",
    "    print(\"check this statement\")"
   ]
  },
  {
   "cell_type": "code",
   "execution_count": null,
   "id": "bc4fb9b8",
   "metadata": {},
   "outputs": [],
   "source": [
    "s = \"sudhanshu\"\n",
    "for i in l:\n",
    "    if i == \"n\":\n",
    "        break\n",
    "else:\n",
    "    print(\"dont execute it unless and untill it is not printing my name\")"
   ]
  },
  {
   "cell_type": "code",
   "execution_count": null,
   "id": "a84016d3",
   "metadata": {},
   "outputs": [],
   "source": [
    "#while loop is always going to check whether it returns true or not\n",
    "a = 1\n",
    "while a <6:\n",
    "    print(a)\n",
    "    a = a+1"
   ]
  },
  {
   "cell_type": "code",
   "execution_count": 2,
   "id": "f1fb9119",
   "metadata": {},
   "outputs": [
    {
     "name": "stdout",
     "output_type": "stream",
     "text": [
      "1\n",
      "2\n",
      "3\n",
      "4\n"
     ]
    }
   ],
   "source": [
    "a=1\n",
    "while a < 6:\n",
    "    print(a)\n",
    "    if a == 4:\n",
    "        break\n",
    "    a = a+1"
   ]
  },
  {
   "cell_type": "code",
   "execution_count": 2,
   "id": "5d9f6418",
   "metadata": {},
   "outputs": [
    {
     "name": "stdout",
     "output_type": "stream",
     "text": [
      "1\n",
      "2\n",
      "3\n",
      "4\n"
     ]
    }
   ],
   "source": [
    "a = 1\n",
    "while a < 5:             #1 is less than 5 print(1) then in simillar way 4<5 print(4) and 4!=3 so it wont be able to go to continue statement\n",
    "    print(a)\n",
    "    a = a+1\n",
    "    if a == 3:\n",
    "        continue\n",
    "                        # continue statement keeps continue . it does not sees the statement after the continue statement."
   ]
  },
  {
   "cell_type": "code",
   "execution_count": 3,
   "id": "ff2837b4",
   "metadata": {},
   "outputs": [],
   "source": [
    "while a<5:\n",
    "    pass"
   ]
  },
  {
   "cell_type": "code",
   "execution_count": null,
   "id": "673b51e4",
   "metadata": {},
   "outputs": [],
   "source": []
  }
 ],
 "metadata": {
  "kernelspec": {
   "display_name": "Python 3 (ipykernel)",
   "language": "python",
   "name": "python3"
  },
  "language_info": {
   "codemirror_mode": {
    "name": "ipython",
    "version": 3
   },
   "file_extension": ".py",
   "mimetype": "text/x-python",
   "name": "python",
   "nbconvert_exporter": "python",
   "pygments_lexer": "ipython3",
   "version": "3.9.12"
  }
 },
 "nbformat": 4,
 "nbformat_minor": 5
}
