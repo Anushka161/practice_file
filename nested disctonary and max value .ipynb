{
 "cells": [
  {
   "cell_type": "code",
   "execution_count": 23,
   "id": "85fef866",
   "metadata": {},
   "outputs": [],
   "source": [
    "d1 = {'ineuron':{'a':14,'b':10,'c':14},'courses':{'d':45,'e':34, 'f':1},'s':34, 'h':[45,6,7,8,9,3],'g': 354 , 'i':(45,34,2) , 'k' :\"sudh\"}"
   ]
  },
  {
   "cell_type": "code",
   "execution_count": 26,
   "id": "02c989cc",
   "metadata": {},
   "outputs": [
    {
     "name": "stdout",
     "output_type": "stream",
     "text": [
      "354\n"
     ]
    }
   ],
   "source": [
    "l1 =[]\n",
    "for i in d1.values():\n",
    "    if type(i) == dict:\n",
    "        l1.append(max(i.values()))\n",
    "    elif type(i) == list:\n",
    "        l1.append(max(i))\n",
    "    elif type(i) == tuple:\n",
    "        l1.append(max(i))\n",
    "    elif type(i) == str:\n",
    "        pass\n",
    "    else:\n",
    "        l1.append(i)\n",
    "print(max(l1))\n",
    "\n",
    "    "
   ]
  },
  {
   "cell_type": "code",
   "execution_count": null,
   "id": "91382bbb",
   "metadata": {},
   "outputs": [],
   "source": [
    "d_1 = {\"ineuron\" :{ \"a\" : 14, \"b\":10 ,\"c\": 4} , \"course\" : {\"d\": 45 ,\"e\":34,'f':1}}\n"
   ]
  },
  {
   "cell_type": "code",
   "execution_count": null,
   "id": "5e6775a0",
   "metadata": {},
   "outputs": [],
   "source": []
  },
  {
   "cell_type": "code",
   "execution_count": null,
   "id": "c0d6cf40",
   "metadata": {},
   "outputs": [],
   "source": []
  },
  {
   "cell_type": "code",
   "execution_count": null,
   "id": "5895369e",
   "metadata": {},
   "outputs": [],
   "source": []
  }
 ],
 "metadata": {
  "kernelspec": {
   "display_name": "Python 3 (ipykernel)",
   "language": "python",
   "name": "python3"
  },
  "language_info": {
   "codemirror_mode": {
    "name": "ipython",
    "version": 3
   },
   "file_extension": ".py",
   "mimetype": "text/x-python",
   "name": "python",
   "nbconvert_exporter": "python",
   "pygments_lexer": "ipython3",
   "version": "3.9.12"
  }
 },
 "nbformat": 4,
 "nbformat_minor": 5
}
